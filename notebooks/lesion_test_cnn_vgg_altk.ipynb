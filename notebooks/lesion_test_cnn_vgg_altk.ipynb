{
 "cells": [
  {
   "cell_type": "code",
   "execution_count": null,
   "outputs": [],
   "source": [
    "import sys\n",
    "sys.path.append('..')\n",
    "import os\n",
    "# os.environ['CUDA_VISIBLE_DEVICES'] = '2'\n",
    "from tqdm import tqdm\n",
    "import pandas as pd\n",
    "import numpy as np\n",
    "import pickle\n",
    "from scipy.stats import beta\n",
    "import warnings\n",
    "from src.lesion import perform_lesion_experiment, do_lesion_hypo_tests\n",
    "from src.pointers import DATA_PATHS\n",
    "from src.experiment_tagging import get_model_path\n",
    "from src.utils import bates_quantile\n",
    "from scipy.stats import sem"
   ],
   "metadata": {
    "collapsed": false,
    "pycharm": {
     "name": "#%%\n"
    }
   }
  },
  {
   "cell_type": "code",
   "execution_count": null,
   "outputs": [],
   "source": [
    "models = [# 'CNN-VGG-CIFAR10',\n",
    "          'CNN-VGG-CIFAR10+DROPOUT+L2REG',\n",
    "          # 'CNN-VGG-CIFAR10+L1REG', 'CNN-VGG-CIFAR10+L2REG',\n",
    "          # 'CNN-VGG-CIFAR10+DROPOUT', , 'CNN-VGG-CIFAR10+MOD-INIT'\n",
    "          ]\n",
    "\n",
    "n_clusts = (8, 12)\n",
    "n_shuffles = 19\n",
    "n_workers = 5\n",
    "n_reps = 5\n",
    "is_unpruned = True\n",
    "dataset_name = 'cifar10_full'\n",
    "# os.environ['CUDA_VISIBLE_DEVICES'] = '1,3'\n",
    "results_dir = '/project/nn_clustering/results/'"
   ],
   "metadata": {
    "collapsed": false,
    "pycharm": {
     "name": "#%%\n"
    }
   }
  },
  {
   "cell_type": "code",
   "execution_count": null,
   "outputs": [],
   "source": [
    "all_results = []\n",
    "\n",
    "with warnings.catch_warnings():\n",
    "    warnings.simplefilter('ignore')\n",
    "    for tag in tqdm(models):\n",
    "        for n_clust in n_clusts:\n",
    "            for use_activations in [False, True]:\n",
    "                for do_local in [False, True]:\n",
    "                    paths = get_model_path(tag, filter_='all')[-n_reps:]\n",
    "\n",
    "                    net_pkl_results = []\n",
    "                    fisher_p_means, chi2_p_means, effect_means = [], [], []\n",
    "                    fisher_p_ranges, chi2_p_ranges, effect_ranges = [], [], []\n",
    "                    fisher_stat_means, fisher_stat_ranges = [], []\n",
    "\n",
    "                    for path in paths:\n",
    "\n",
    "                        (true_results,\n",
    "                         all_random_results,\n",
    "                         metadata,\n",
    "                         evaluation) = perform_lesion_experiment('.' + DATA_PATHS[dataset_name],\n",
    "                                                                 path, n_clusters=n_clust,\n",
    "                                                                 n_shuffles=n_shuffles,\n",
    "                                                                 unpruned=is_unpruned,\n",
    "                                                                 depth=3,\n",
    "                                                                 n_side=32,\n",
    "                                                                 activations=use_activations,\n",
    "                                                                 local=do_local)\n",
    "                        net_pkl_results.append({'true_results': true_results,\n",
    "                                                'all_random_results': all_random_results,\n",
    "                                                'metadata': metadata,\n",
    "                                                'evaluation': evaluation})\n",
    "                        hypo_results = do_lesion_hypo_tests(evaluation, true_results, all_random_results)\n",
    "\n",
    "                        fisher_p_means.append(hypo_results['fisher_p_means'])\n",
    "                        fisher_stat_means.append(hypo_results['fisher_stat_means'])\n",
    "                        chi2_p_means.append(hypo_results['chi2_p_means'])\n",
    "                        effect_means.append(hypo_results['effect_factors_means'])\n",
    "                        fisher_p_ranges.append(hypo_results['fisher_p_ranges'])\n",
    "                        fisher_stat_ranges.append(hypo_results['fisher_stat_ranges'])\n",
    "                        chi2_p_ranges.append(hypo_results['chi2_p_ranges'])\n",
    "                        effect_ranges.append(hypo_results['effect_factors_range'])\n",
    "                    print(tag, use_activations, do_local)\n",
    "\n",
    "                    with open(results_dir + '/lesion_data_' + tag + f'_activations={use_activations}_local={do_local}_k={n_clust}.pkl', 'wb') as f:\n",
    "                        pickle.dump(net_pkl_results, f)\n"
   ],
   "metadata": {
    "collapsed": false,
    "pycharm": {
     "name": "#%%\n"
    }
   }
  }
 ],
 "metadata": {
  "kernelspec": {
   "display_name": "Python 3",
   "language": "python",
   "name": "python3"
  },
  "language_info": {
   "codemirror_mode": {
    "name": "ipython",
    "version": 3
   },
   "file_extension": ".py",
   "mimetype": "text/x-python",
   "name": "python",
   "nbconvert_exporter": "python",
   "pygments_lexer": "ipython3",
   "version": "3.7.5"
  },
  "papermill": {
   "duration": 78799.116494,
   "end_time": "2020-09-04T01:55:15.612084",
   "environment_variables": {},
   "exception": null,
   "input_path": "./notebooks/lesion_tables.ipynb",
   "output_path": "./notebooks/lesion_tables.ipynb",
   "parameters": {},
   "start_time": "2020-09-03T04:01:56.495590",
   "version": "1.2.1"
  }
 },
 "nbformat": 4,
 "nbformat_minor": 0
}