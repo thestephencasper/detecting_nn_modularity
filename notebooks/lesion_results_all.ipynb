{
 "cells": [
  {
   "cell_type": "code",
   "execution_count": null,
   "metadata": {
    "collapsed": true
   },
   "outputs": [],
   "source": [
    "import sys\n",
    "sys.path.append('..')\n",
    "from tqdm import tqdm\n",
    "import pandas as pd\n",
    "import numpy as np\n",
    "import pickle\n",
    "import warnings\n",
    "from src.lesion import perform_lesion_experiment, do_lesion_hypo_tests\n",
    "from src.pointers import DATA_PATHS\n",
    "from src.lesion.experimentation import do_lesion_hypo_tests_imagenet\n",
    "from src.experiment_tagging import get_model_path\n",
    "from src.utils import bates_quantile\n",
    "from scipy.stats import sem"
   ]
  },
  {
   "cell_type": "code",
   "execution_count": null,
   "outputs": [],
   "source": [
    "models = [('mnist', 'MNIST'), ('mnist', 'CNN-MNIST'), ('cifar10_full', 'CNN-VGG-CIFAR10+DROPOUT+L2REG')]\n",
    "\n",
    "n_clust = 16\n",
    "n_shuffles = 19\n",
    "n_workers = 5\n",
    "n_reps = 5\n",
    "is_unpruned = True\n",
    "results_dir = '/project/nn_clustering/results/'\n",
    "\n",
    "all_results = []"
   ],
   "metadata": {
    "collapsed": false,
    "pycharm": {
     "name": "#%%\n"
    }
   }
  },
  {
   "cell_type": "code",
   "execution_count": null,
   "outputs": [],
   "source": [
    "with warnings.catch_warnings():\n",
    "    warnings.simplefilter('ignore')\n",
    "    for dataset_name, tag in tqdm(models):\n",
    "        if dataset_name == 'cifar10_full':\n",
    "            dp, ns = (3, 32)\n",
    "        else:\n",
    "            dp, ns = (1, 28)\n",
    "        for use_activations in [False, True]:\n",
    "            for do_local in [False, True]:\n",
    "\n",
    "                paths = get_model_path(tag, filter_='all')[-n_reps:]\n",
    "                fisher_p_means, chi2_p_means, effect_means = [], [], []\n",
    "                fisher_p_ranges, chi2_p_ranges, effect_ranges = [], [], []\n",
    "                fisher_stat_means, fisher_stat_ranges = [], []\n",
    "\n",
    "                with open(results_dir + '/lesion_data_' + tag +\n",
    "                          f'_activations={use_activations}_local={do_local}.pkl', 'rb') as f:\n",
    "                    net_pkl_results = pickle.load(f)\n",
    "\n",
    "                for p_i in range(len(paths)):\n",
    "\n",
    "                    true_results = net_pkl_results[p_i]['true_results']\n",
    "                    all_random_results = net_pkl_results[p_i]['all_random_results']\n",
    "                    metadata = net_pkl_results[p_i]['metadata']\n",
    "                    evaluation = net_pkl_results[p_i]['evaluation']\n",
    "\n",
    "                    hypo_results = do_lesion_hypo_tests(evaluation, true_results, all_random_results)\n",
    "                    fisher_p_means.append(hypo_results['fisher_p_means'])\n",
    "                    fisher_stat_means.append(hypo_results['fisher_stat_means'])\n",
    "                    chi2_p_means.append(hypo_results['chi2_p_means'])\n",
    "                    effect_means.append(hypo_results['effect_factors_means'])\n",
    "                    fisher_p_ranges.append(hypo_results['fisher_p_ranges'])\n",
    "                    fisher_stat_ranges.append(hypo_results['fisher_stat_ranges'])\n",
    "                    chi2_p_ranges.append(hypo_results['chi2_p_ranges'])\n",
    "                    effect_ranges.append(hypo_results['effect_factors_range'])\n",
    "\n",
    "                model_results = {'is_unpruned': is_unpruned,\n",
    "                                 'model_tag': tag,\n",
    "                                 'activations': use_activations,\n",
    "                                 'local': do_local,\n",
    "                                 'fisher_p_means': bates_quantile(np.mean(np.array(fisher_p_means)), n_reps),\n",
    "                                 'fisher_stat_means': np.mean(np.array(fisher_stat_means)),\n",
    "                                 # 'chi2_p_means': bates_quantile(np.mean(np.array(chi2_p_means)), n_reps),\n",
    "                                 'effect_means': np.mean(np.concatenate(effect_means))*2,\n",
    "                                 'effect_means_sem': sem(np.concatenate(effect_means)*2),\n",
    "                                 'fisher_p_ranges': bates_quantile(np.mean(np.array(fisher_p_ranges)), n_reps),\n",
    "                                 'fisher_stat_ranges': np.mean(np.array(fisher_stat_ranges)),\n",
    "                                 # 'chi2_p_ranges': bates_quantile(np.mean(np.array(chi2_p_ranges)), n_reps),\n",
    "                                 'effect_ranges': np.mean(np.concatenate(effect_ranges))*2,\n",
    "                                 'effect_ranges_sem': sem(np.concatenate(effect_ranges)*2),}\n",
    "                all_results.append(pd.Series(model_results))"
   ],
   "metadata": {
    "collapsed": false,
    "pycharm": {
     "name": "#%%\n"
    }
   }
  },
  {
   "cell_type": "code",
   "execution_count": null,
   "outputs": [],
   "source": [
    "nets = ['resnet18', 'vgg16']\n",
    "num_ranks = n_shuffles + 1\n",
    "min_percentile = 1 / num_ranks\n",
    "n_clust = 32\n",
    "\n",
    "with warnings.catch_warnings():\n",
    "    warnings.simplefilter('ignore')\n",
    "    for net in nets:\n",
    "        for use_activations in [False, True]:\n",
    "            for do_local in [False, True]:\n",
    "\n",
    "                with open(results_dir + '/lesion_data_' + net +\n",
    "                          f'_activations={use_activations}_local={do_local}.pkl', 'rb') as f:\n",
    "                    results_dict = pickle.load(f)\n",
    "\n",
    "                hypo_test_results = do_lesion_hypo_tests_imagenet(results_dict['results'], n_shuffles=n_shuffles)\n",
    "\n",
    "                fisher_p_means = hypo_test_results['fisher_p_means']\n",
    "                fisher_stat_means = hypo_test_results['fisher_stat_means']\n",
    "                chi2_p_means = hypo_test_results['chi2_p_means']\n",
    "                effect_means = hypo_test_results['effect_factors_means']\n",
    "                fisher_p_ranges = hypo_test_results['fisher_p_ranges']\n",
    "                fisher_stat_ranges = hypo_test_results['fisher_stat_ranges']\n",
    "                chi2_p_ranges= hypo_test_results['chi2_p_ranges']\n",
    "                effect_ranges = hypo_test_results['effect_factors_range']\n",
    "\n",
    "                model_results = {'is_unpruned': True,\n",
    "                                 'model_tag': net,\n",
    "                                 'activations': use_activations,\n",
    "                                 'local': do_local,\n",
    "                                 'fisher_p_means': fisher_p_means,\n",
    "                                 'fisher_stat_means': fisher_stat_means,\n",
    "                                 # 'chi2_p_means': chi2_p_means,\n",
    "                                 'effect_means': np.mean(effect_means*2),\n",
    "                                 'effect_means_sem': sem(effect_means*2, axis=None),\n",
    "                                 'fisher_p_ranges': fisher_p_ranges,\n",
    "                                 'fisher_stat_ranges': fisher_stat_ranges,\n",
    "                                 # 'chi2_p_ranges': chi2_p_ranges,\n",
    "                                 'effect_ranges': np.mean(effect_ranges*2),\n",
    "                                 'effect_ranges_sem': sem(effect_ranges*2, axis=None),}\n",
    "                all_results.append(pd.Series(model_results))"
   ],
   "metadata": {
    "collapsed": false,
    "pycharm": {
     "name": "#%%\n"
    }
   }
  },
  {
   "cell_type": "code",
   "execution_count": null,
   "outputs": [],
   "source": [
    "result_df = pd.DataFrame(all_results)\n",
    "savepath = '../results/lesion_results_all.csv'\n",
    "result_df.to_csv(savepath)\n",
    "result_df"
   ],
   "metadata": {
    "collapsed": false,
    "pycharm": {
     "name": "#%%\n"
    }
   }
  }
 ],
 "metadata": {
  "kernelspec": {
   "display_name": "Python 3",
   "language": "python",
   "name": "python3"
  },
  "language_info": {
   "codemirror_mode": {
    "name": "ipython",
    "version": 2
   },
   "file_extension": ".py",
   "mimetype": "text/x-python",
   "name": "python",
   "nbconvert_exporter": "python",
   "pygments_lexer": "ipython2",
   "version": "2.7.6"
  }
 },
 "nbformat": 4,
 "nbformat_minor": 0
}